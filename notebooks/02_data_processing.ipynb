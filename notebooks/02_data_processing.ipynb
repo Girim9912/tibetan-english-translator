{
 "cells": [
  {
   "cell_type": "code",
   "execution_count": 7,
   "id": "69515083",
   "metadata": {},
   "outputs": [
    {
     "name": "stdout",
     "output_type": "stream",
     "text": [
      "Created data directories\n",
      "Searching for Tibetan-English parallel text samples...\n",
      "Saved 10 sample phrase pairs to data/raw/tibetan_english_sample.txt\n"
     ]
    }
   ],
   "source": [
    "import os\n",
    "import requests\n",
    "import zipfile\n",
    "import io\n",
    "\n",
    "def create_data_directories():\n",
    "    \"\"\"Create necessary directories for data storage\"\"\"\n",
    "    os.makedirs('data/raw', exist_ok=True)\n",
    "    os.makedirs('data/processed', exist_ok=True)\n",
    "    print(\"Created data directories\")\n",
    "\n",
    "def download_sample_data():\n",
    "    \"\"\"Download a sample Tibetan-English dataset\"\"\"\n",
    "    # For this example, we'll use a small sample from OPUS (if available)\n",
    "    # In reality, you might need to manually collect and prepare data\n",
    "    \n",
    "    print(\"Searching for Tibetan-English parallel text samples...\")\n",
    "    \n",
    "    # Sample Tibetan phrases with English translations\n",
    "    sample_data = [\n",
    "        (\"ཁྱེད་རང་ག་འདྲས་ཡོད།\", \"How are you?\"),\n",
    "        (\"ང་བདེ་པོ་ཡིན།\", \"I am well.\"),\n",
    "        (\"ཐུགས་རྗེ་ཆེ།\", \"Thank you.\"),\n",
    "        (\"དགོངས་དག\", \"Sorry/Excuse me.\"),\n",
    "        (\"བཀྲ་ཤིས་བདེ་ལེགས།\", \"Hello/Greetings.\"),\n",
    "        (\"ཞོགས་པ་བདེ་ལེགས།\", \"Good morning.\"),\n",
    "        (\"མཚན་མོ་བདེ་ལེགས།\", \"Good night.\"),\n",
    "        (\"ཁྱེད་རང་གི་མིང་ལ་ག་རེ་ཞུ་གི་ཡོད།\", \"What is your name?\"),\n",
    "        (\"ངའི་མིང་ལ་_ཟེར་གྱི་ཡོད།\", \"My name is _.\"),\n",
    "        (\"དགའ་བསུ་ཞུ།\", \"Welcome.\")\n",
    "    ]\n",
    "    \n",
    "    # Save the sample data\n",
    "    with open('data//raw//tibetan_english_sample.txt', 'w', encoding='utf-8') as f:\n",
    "        for tibetan, english in sample_data:\n",
    "            f.write(f\"{tibetan}\\t{english}\\n\")\n",
    "    \n",
    "    print(f\"Saved {len(sample_data)} sample phrase pairs to data/raw/tibetan_english_sample.txt\")\n",
    "\n",
    "if __name__ == \"__main__\":\n",
    "    create_data_directories()\n",
    "    download_sample_data()"
   ]
  }
 ],
 "metadata": {
  "kernelspec": {
   "display_name": "venv",
   "language": "python",
   "name": "python3"
  },
  "language_info": {
   "codemirror_mode": {
    "name": "ipython",
    "version": 3
   },
   "file_extension": ".py",
   "mimetype": "text/x-python",
   "name": "python",
   "nbconvert_exporter": "python",
   "pygments_lexer": "ipython3",
   "version": "3.13.2"
  }
 },
 "nbformat": 4,
 "nbformat_minor": 5
}
